{
 "cells": [
  {
   "cell_type": "code",
   "execution_count": 1,
   "metadata": {},
   "outputs": [],
   "source": [
    "#======================\n",
    "# XML Parsing To JSON and Dict\n",
    "#======================"
   ]
  },
  {
   "cell_type": "code",
   "execution_count": 2,
   "metadata": {},
   "outputs": [
    {
     "name": "stdout",
     "output_type": "stream",
     "text": [
      "('{\"audience\": {\"id\": {\"@what\": \"attribute\", \"#text\": \"123\"}, \"name\": \"the '\n",
      " 'heck\", \"detail_address\": {\"city\": \"West Jakarta\", \"district\": \"West '\n",
      " 'Jakarta\", \"postcode\": \"521000\", \"email\": \"hi-there@mail.com\"}}}')\n"
     ]
    }
   ],
   "source": [
    "import xmltodict\n",
    "import pprint\n",
    "import json\n",
    "\n",
    "xml = \"\"\"\n",
    "    <audience>\n",
    "        <id what=\"attribute\">123</id>\n",
    "        <name>the heck</name>\n",
    "        <detail_address>\n",
    "            <city>West Jakarta</city>\n",
    "            <district>West Jakarta</district>\n",
    "            <postcode>521000</postcode>\n",
    "            <email>hi-there@mail.com</email>\n",
    "        </detail_address>\n",
    "    </audience>\n",
    "\"\"\"\n",
    "\n",
    "output = pprint.PrettyPrinter(indent=4)\n",
    "\n",
    "# parsing the data into json format in python\n",
    "output.pprint(json.dumps(xmltodict.parse(xml)))"
   ]
  },
  {
   "cell_type": "code",
   "execution_count": 3,
   "metadata": {},
   "outputs": [
    {
     "name": "stdout",
     "output_type": "stream",
     "text": [
      "OrderedDict([('@what', 'attribute'), ('#text', '123')])\n",
      "attribute\n"
     ]
    }
   ],
   "source": [
    "# from xml file into python dict\n",
    "dicts = xmltodict.parse(xml)\n",
    "print(dicts['audience']['id'])\n",
    "print(dicts['audience']['id']['@what'])"
   ]
  },
  {
   "cell_type": "code",
   "execution_count": 4,
   "metadata": {},
   "outputs": [
    {
     "name": "stdout",
     "output_type": "stream",
     "text": [
      "('{\"catalog\": {\"product\": {\"@description\": \"Cardigan Sweater\", '\n",
      " '\"@product_image\": \"cardigan.jpg\", \"catalog_item\": [{\"@gender\": \"Men\\'s\", '\n",
      " '\"item_number\": \"QWZ5671\", \"price\": \"39.95\", \"size\": [{\"@description\": '\n",
      " '\"Medium\", \"color_swatch\": [{\"@image\": \"red_cardigan.jpg\", \"#text\": \"Red\"}, '\n",
      " '{\"@image\": \"burgundy_cardigan.jpg\", \"#text\": \"Burgundy\"}]}, {\"@description\": '\n",
      " '\"Large\", \"color_swatch\": [{\"@image\": \"red_cardigan.jpg\", \"#text\": \"Red\"}, '\n",
      " '{\"@image\": \"burgundy_cardigan.jpg\", \"#text\": \"Burgundy\"}]}]}, {\"@gender\": '\n",
      " '\"Women\\'s\", \"item_number\": \"RRX9856\", \"price\": \"42.50\", \"size\": '\n",
      " '[{\"@description\": \"Small\", \"color_swatch\": [{\"@image\": \"red_cardigan.jpg\", '\n",
      " '\"#text\": \"Red\"}, {\"@image\": \"navy_cardigan.jpg\", \"#text\": \"Navy\"}, '\n",
      " '{\"@image\": \"burgundy_cardigan.jpg\", \"#text\": \"Burgundy\"}]}, {\"@description\": '\n",
      " '\"Medium\", \"color_swatch\": [{\"@image\": \"red_cardigan.jpg\", \"#text\": \"Red\"}, '\n",
      " '{\"@image\": \"navy_cardigan.jpg\", \"#text\": \"Navy\"}, {\"@image\": '\n",
      " '\"burgundy_cardigan.jpg\", \"#text\": \"Burgundy\"}, {\"@image\": '\n",
      " '\"black_cardigan.jpg\", \"#text\": \"Black\"}]}, {\"@description\": \"Large\", '\n",
      " '\"color_swatch\": [{\"@image\": \"navy_cardigan.jpg\", \"#text\": \"Navy\"}, '\n",
      " '{\"@image\": \"black_cardigan.jpg\", \"#text\": \"Black\"}]}, {\"@description\": '\n",
      " '\"Extra Large\", \"color_swatch\": [{\"@image\": \"burgundy_cardigan.jpg\", \"#text\": '\n",
      " '\"Burgundy\"}, {\"@image\": \"black_cardigan.jpg\", \"#text\": \"Black\"}]}]}]}}}')\n"
     ]
    }
   ],
   "source": [
    "# file converting from XML to JSON\n",
    "\n",
    "with open('/home/icoldplayer/Documents/learning/python/iPython/data/json_file.xml') as jsonxml:\n",
    "    docs = xmltodict.parse(jsonxml.read())\n",
    "\n",
    "output = pprint.PrettyPrinter(indent=4)\n",
    "output.pprint(json.dumps(docs))"
   ]
  },
  {
   "cell_type": "code",
   "execution_count": 5,
   "metadata": {},
   "outputs": [
    {
     "data": {
      "text/plain": [
       "OrderedDict([('catalog',\n",
       "              OrderedDict([('product',\n",
       "                            OrderedDict([('@description', 'Cardigan Sweater'),\n",
       "                                         ('@product_image', 'cardigan.jpg'),\n",
       "                                         ('catalog_item',\n",
       "                                          [OrderedDict([('@gender', \"Men's\"),\n",
       "                                                        ('item_number',\n",
       "                                                         'QWZ5671'),\n",
       "                                                        ('price', '39.95'),\n",
       "                                                        ('size',\n",
       "                                                         [OrderedDict([('@description',\n",
       "                                                                        'Medium'),\n",
       "                                                                       ('color_swatch',\n",
       "                                                                        [OrderedDict([('@image',\n",
       "                                                                                       'red_cardigan.jpg'),\n",
       "                                                                                      ('#text',\n",
       "                                                                                       'Red')]),\n",
       "                                                                         OrderedDict([('@image',\n",
       "                                                                                       'burgundy_cardigan.jpg'),\n",
       "                                                                                      ('#text',\n",
       "                                                                                       'Burgundy')])])]),\n",
       "                                                          OrderedDict([('@description',\n",
       "                                                                        'Large'),\n",
       "                                                                       ('color_swatch',\n",
       "                                                                        [OrderedDict([('@image',\n",
       "                                                                                       'red_cardigan.jpg'),\n",
       "                                                                                      ('#text',\n",
       "                                                                                       'Red')]),\n",
       "                                                                         OrderedDict([('@image',\n",
       "                                                                                       'burgundy_cardigan.jpg'),\n",
       "                                                                                      ('#text',\n",
       "                                                                                       'Burgundy')])])])])]),\n",
       "                                           OrderedDict([('@gender', \"Women's\"),\n",
       "                                                        ('item_number',\n",
       "                                                         'RRX9856'),\n",
       "                                                        ('price', '42.50'),\n",
       "                                                        ('size',\n",
       "                                                         [OrderedDict([('@description',\n",
       "                                                                        'Small'),\n",
       "                                                                       ('color_swatch',\n",
       "                                                                        [OrderedDict([('@image',\n",
       "                                                                                       'red_cardigan.jpg'),\n",
       "                                                                                      ('#text',\n",
       "                                                                                       'Red')]),\n",
       "                                                                         OrderedDict([('@image',\n",
       "                                                                                       'navy_cardigan.jpg'),\n",
       "                                                                                      ('#text',\n",
       "                                                                                       'Navy')]),\n",
       "                                                                         OrderedDict([('@image',\n",
       "                                                                                       'burgundy_cardigan.jpg'),\n",
       "                                                                                      ('#text',\n",
       "                                                                                       'Burgundy')])])]),\n",
       "                                                          OrderedDict([('@description',\n",
       "                                                                        'Medium'),\n",
       "                                                                       ('color_swatch',\n",
       "                                                                        [OrderedDict([('@image',\n",
       "                                                                                       'red_cardigan.jpg'),\n",
       "                                                                                      ('#text',\n",
       "                                                                                       'Red')]),\n",
       "                                                                         OrderedDict([('@image',\n",
       "                                                                                       'navy_cardigan.jpg'),\n",
       "                                                                                      ('#text',\n",
       "                                                                                       'Navy')]),\n",
       "                                                                         OrderedDict([('@image',\n",
       "                                                                                       'burgundy_cardigan.jpg'),\n",
       "                                                                                      ('#text',\n",
       "                                                                                       'Burgundy')]),\n",
       "                                                                         OrderedDict([('@image',\n",
       "                                                                                       'black_cardigan.jpg'),\n",
       "                                                                                      ('#text',\n",
       "                                                                                       'Black')])])]),\n",
       "                                                          OrderedDict([('@description',\n",
       "                                                                        'Large'),\n",
       "                                                                       ('color_swatch',\n",
       "                                                                        [OrderedDict([('@image',\n",
       "                                                                                       'navy_cardigan.jpg'),\n",
       "                                                                                      ('#text',\n",
       "                                                                                       'Navy')]),\n",
       "                                                                         OrderedDict([('@image',\n",
       "                                                                                       'black_cardigan.jpg'),\n",
       "                                                                                      ('#text',\n",
       "                                                                                       'Black')])])]),\n",
       "                                                          OrderedDict([('@description',\n",
       "                                                                        'Extra Large'),\n",
       "                                                                       ('color_swatch',\n",
       "                                                                        [OrderedDict([('@image',\n",
       "                                                                                       'burgundy_cardigan.jpg'),\n",
       "                                                                                      ('#text',\n",
       "                                                                                       'Burgundy')]),\n",
       "                                                                         OrderedDict([('@image',\n",
       "                                                                                       'black_cardigan.jpg'),\n",
       "                                                                                      ('#text',\n",
       "                                                                                       'Black')])])])])])])]))]))])"
      ]
     },
     "execution_count": 5,
     "metadata": {},
     "output_type": "execute_result"
    }
   ],
   "source": [
    "# using namespaces \n",
    "docs.process_namespace=True\n",
    "docs"
   ]
  },
  {
   "cell_type": "code",
   "execution_count": null,
   "metadata": {},
   "outputs": [],
   "source": []
  }
 ],
 "metadata": {
  "kernelspec": {
   "display_name": "Python 3",
   "language": "python",
   "name": "python3"
  },
  "language_info": {
   "codemirror_mode": {
    "name": "ipython",
    "version": 3
   },
   "file_extension": ".py",
   "mimetype": "text/x-python",
   "name": "python",
   "nbconvert_exporter": "python",
   "pygments_lexer": "ipython3",
   "version": "3.6.8"
  }
 },
 "nbformat": 4,
 "nbformat_minor": 2
}
