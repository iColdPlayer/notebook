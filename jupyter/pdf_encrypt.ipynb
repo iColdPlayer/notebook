{
 "cells": [
  {
   "cell_type": "code",
   "execution_count": 1,
   "metadata": {},
   "outputs": [],
   "source": [
    "# Merge pdf using PyPDF2\n",
    "\n",
    "from PyPDF2 import PdfFileReader, PdfFileWriter\n",
    "\n",
    "def merge_pdfs(paths, output):\n",
    "    writer = PdfFileWriter()\n",
    "\n",
    "    for path in paths:\n",
    "        pdf_reader = PdfFileReader(path)\n",
    "        for page in range(pdf_reader.getNumPages()):\n",
    "            \n",
    "            # Add each page to the writer object\n",
    "            writer.addPage(pdf_reader.getPage(page))\n",
    "\n",
    "    # Write out the merged PDF\n",
    "    with open(output, 'wb') as out:\n",
    "        writer.write(out)\n",
    "\n",
    "if __name__ == '__main__':\n",
    "    paths = [\n",
    "        '/home/icoldplayer/Documents/learning/python/encdec/mozilla.pdf', \n",
    "        '/home/icoldplayer/Documents/learning/python/encdec/tester.pdf'\n",
    "    ]\n",
    "    merge_pdfs(paths, output='/home/icoldplayer/Documents/learning/python/encdec/merged.pdf')"
   ]
  },
  {
   "cell_type": "code",
   "execution_count": 5,
   "metadata": {},
   "outputs": [],
   "source": [
    "# PDF Encripting using PyPDF2\n",
    "\n",
    "from PyPDF2 import PdfFileWriter, PdfFileReader\n",
    "\n",
    "def encrypting_file(input_pdf, output_pdf, password):\n",
    "    writer = PdfFileWriter()\n",
    "    reader = PdfFileReader(input_pdf)\n",
    "    \n",
    "    for page in range(reader.getNumPages()):\n",
    "        writer.addPage(reader.getPage(page))\n",
    "        \n",
    "    writer.encrypt(user_pwd=password, owner_pwd=None, use_128bit=True)\n",
    "    \n",
    "    with open(output_pdf, 'wb') as fh:\n",
    "        writer.write(fh)\n",
    "        \n",
    "if __name__ == '__main__':\n",
    "    encrypting_file(\n",
    "        input_pdf='/home/icoldplayer/Documents/learning/python/encdec/mozilla.pdf', \n",
    "        output_pdf='/home/icoldplayer/Documents/learning/python/encdec/mozilla_encrypted.pdf', \n",
    "        password='what_the_fuck')"
   ]
  },
  {
   "cell_type": "code",
   "execution_count": null,
   "metadata": {},
   "outputs": [],
   "source": []
  }
 ],
 "metadata": {
  "kernelspec": {
   "display_name": "Python 3",
   "language": "python",
   "name": "python3"
  },
  "language_info": {
   "codemirror_mode": {
    "name": "ipython",
    "version": 3
   },
   "file_extension": ".py",
   "mimetype": "text/x-python",
   "name": "python",
   "nbconvert_exporter": "python",
   "pygments_lexer": "ipython3",
   "version": "3.6.8"
  }
 },
 "nbformat": 4,
 "nbformat_minor": 2
}
