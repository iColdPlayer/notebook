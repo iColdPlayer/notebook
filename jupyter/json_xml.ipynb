{
 "cells": [
  {
   "cell_type": "code",
   "execution_count": 1,
   "metadata": {},
   "outputs": [],
   "source": [
    "#======================\n",
    "# JSON Parsing into XML and Dict\n",
    "#======================"
   ]
  },
  {
   "cell_type": "code",
   "execution_count": 2,
   "metadata": {},
   "outputs": [
    {
     "name": "stdout",
     "output_type": "stream",
     "text": [
      "<?xml version=\"1.0\" encoding=\"utf-8\"?>\n",
      "<data>\n",
      "\t<name>Indonesia</name>\n",
      "\t<Capital City>Jakarta</Capital City>\n",
      "\t<Gender>\n",
      "\t\t<woman>1000</woman>\n",
      "\t\t<Men>1240</Men>\n",
      "\t\t<Child>4000</Child>\n",
      "\t</Gender>\n",
      "\t<id_country>12_28sHjlJK</id_country>\n",
      "</data>\n"
     ]
    }
   ],
   "source": [
    "import xmltodict\n",
    "\n",
    "country = {\n",
    "    \"data\" : {\n",
    "        \"name\" : \"Indonesia\", \n",
    "        \"Capital City\" : \"Jakarta\",\n",
    "        \"Gender\" : {\n",
    "            \"woman\" : 1000,\n",
    "            \"Men\" : 1240,\n",
    "            \"Child\" : 4000\n",
    "        },\n",
    "        \"id_country\" : \"12_28sHjlJK\"\n",
    "    }\n",
    "}\n",
    "\n",
    "# we can use 'unparse' method to convert the JSON into XML using xmltodict. opposite from the 'parse' method\n",
    "print(xmltodict.unparse(country, pretty=True))"
   ]
  }
 ],
 "metadata": {
  "kernelspec": {
   "display_name": "Python 3",
   "language": "python",
   "name": "python3"
  },
  "language_info": {
   "codemirror_mode": {
    "name": "ipython",
    "version": 3
   },
   "file_extension": ".py",
   "mimetype": "text/x-python",
   "name": "python",
   "nbconvert_exporter": "python",
   "pygments_lexer": "ipython3",
   "version": "3.6.8"
  }
 },
 "nbformat": 4,
 "nbformat_minor": 2
}
