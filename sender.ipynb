{
 "cells": [
  {
   "cell_type": "code",
   "execution_count": 1,
   "metadata": {},
   "outputs": [
    {
     "ename": "OSError",
     "evalue": "[Errno 98] Address already in use",
     "output_type": "error",
     "traceback": [
      "\u001b[0;31m---------------------------------------------------------------------------\u001b[0m",
      "\u001b[0;31mOSError\u001b[0m                                   Traceback (most recent call last)",
      "\u001b[0;32m<ipython-input-1-20564dc5cb28>\u001b[0m in \u001b[0;36m<module>\u001b[0;34m\u001b[0m\n\u001b[1;32m     10\u001b[0m     \u001b[0msock\u001b[0m \u001b[0;34m=\u001b[0m \u001b[0msocket\u001b[0m\u001b[0;34m.\u001b[0m\u001b[0msocket\u001b[0m\u001b[0;34m(\u001b[0m\u001b[0;34m)\u001b[0m  \u001b[0;31m# Create a socket object\u001b[0m\u001b[0;34m\u001b[0m\u001b[0;34m\u001b[0m\u001b[0m\n\u001b[1;32m     11\u001b[0m     \u001b[0mhost\u001b[0m \u001b[0;34m=\u001b[0m \u001b[0msocket\u001b[0m\u001b[0;34m.\u001b[0m\u001b[0mgethostname\u001b[0m\u001b[0;34m(\u001b[0m\u001b[0;34m)\u001b[0m  \u001b[0;31m# Get local machine name\u001b[0m\u001b[0;34m\u001b[0m\u001b[0;34m\u001b[0m\u001b[0m\n\u001b[0;32m---> 12\u001b[0;31m     \u001b[0msock\u001b[0m\u001b[0;34m.\u001b[0m\u001b[0mbind\u001b[0m\u001b[0;34m(\u001b[0m\u001b[0;34m(\u001b[0m\u001b[0;34m'localhost'\u001b[0m\u001b[0;34m,\u001b[0m \u001b[0;36m4567\u001b[0m\u001b[0;34m)\u001b[0m\u001b[0;34m)\u001b[0m  \u001b[0;31m# Bind to the port\u001b[0m\u001b[0;34m\u001b[0m\u001b[0;34m\u001b[0m\u001b[0m\n\u001b[0m\u001b[1;32m     13\u001b[0m     \u001b[0msock\u001b[0m\u001b[0;34m.\u001b[0m\u001b[0mlisten\u001b[0m\u001b[0;34m(\u001b[0m\u001b[0;36m5\u001b[0m\u001b[0;34m)\u001b[0m  \u001b[0;31m# Now wait for client connection.\u001b[0m\u001b[0;34m\u001b[0m\u001b[0;34m\u001b[0m\u001b[0m\n\u001b[1;32m     14\u001b[0m \u001b[0;34m\u001b[0m\u001b[0m\n",
      "\u001b[0;31mOSError\u001b[0m: [Errno 98] Address already in use"
     ]
    }
   ],
   "source": [
    "if __name__ == \"__main__\":\n",
    "    import socket  # Import socket module\n",
    "\n",
    "    ONE_CONNECTION_ONLY = (\n",
    "        True\n",
    "    )  # Set this to False if you wish to continuously accept connections\n",
    "\n",
    "    filename = \"/home/icoldplayer/Documents/learning/python/iPython/data/file\"\n",
    "    port = 12312  # Reserve a port for your service.\n",
    "    sock = socket.socket()  # Create a socket object\n",
    "    host = socket.gethostname()  # Get local machine name\n",
    "    sock.bind(('localhost', 4567))  # Bind to the port\n",
    "    sock.listen(5)  # Now wait for client connection.\n",
    "\n",
    "    print(\"Server listening....\")\n",
    "\n",
    "    while True:\n",
    "        conn, addr = sock.accept()  # Establish connection with client.\n",
    "        print(f\"Got connection from {addr}\")\n",
    "        data = conn.recv(1024)\n",
    "        print(f\"Server received {data}\")\n",
    "\n",
    "        with open(filename, \"rb\") as in_file:\n",
    "            data = in_file.read(1024)\n",
    "            while data:\n",
    "                conn.send(data)\n",
    "                print(f\"Sent {data!r}\")\n",
    "                data = in_file.read(1024)\n",
    "\n",
    "        print(\"Done sending\")\n",
    "        conn.close()\n",
    "        if (\n",
    "            ONE_CONNECTION_ONLY\n",
    "        ):  # This is to make sure that the program doesn't hang while testing\n",
    "            break\n",
    "\n",
    "    sock.shutdown(1)\n",
    "    sock.close()"
   ]
  },
  {
   "cell_type": "code",
   "execution_count": null,
   "metadata": {},
   "outputs": [],
   "source": []
  }
 ],
 "metadata": {
  "kernelspec": {
   "display_name": "Python 3",
   "language": "python",
   "name": "python3"
  },
  "language_info": {
   "codemirror_mode": {
    "name": "ipython",
    "version": 3
   },
   "file_extension": ".py",
   "mimetype": "text/x-python",
   "name": "python",
   "nbconvert_exporter": "python",
   "pygments_lexer": "ipython3",
   "version": "3.6.8"
  }
 },
 "nbformat": 4,
 "nbformat_minor": 2
}
