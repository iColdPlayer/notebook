{
 "cells": [
  {
   "cell_type": "code",
   "execution_count": 9,
   "metadata": {},
   "outputs": [
    {
     "data": {
      "text/plain": [
       "''"
      ]
     },
     "execution_count": 9,
     "metadata": {},
     "output_type": "execute_result"
    }
   ],
   "source": [
    "# Generating New PDF File Using Python \n",
    "\n",
    "from fpdf import FPDF\n",
    "\n",
    "\n",
    "pdf = FPDF()\n",
    "# Set Author Name of the PDF\n",
    "pdf.set_author('@iColdPlayer')\n",
    "\n",
    "# Set Subject of The PDF\n",
    "pdf.set_subject('python')\n",
    "\n",
    "# Set the Title of the PDF\n",
    "pdf.set_title('Generating PDF with Python')\n",
    "pdf.add_page()\n",
    "\n",
    "# Set Font family Courier with font size 28\n",
    "pdf.set_font(\"Courier\", '', 18)\n",
    "\n",
    "\n",
    "pdf.text(0, 5, \"PDF Maker With Python\")\n",
    "pdf.text(0, 30, \"made by iColdPlayer\")\n",
    "\n",
    "# Add Text at (0,50)\n",
    "pdf.text(0, 50, \"Example to generate PDF in python.\")\n",
    "\n",
    "# Set Font Family Courier with italic and font size 28\n",
    "pdf.set_font(\"Courier\", 'i', 28)\n",
    "pdf.text(0, 60, \"This is an italic text\")  # Write text at 0,60\n",
    "\n",
    "# Draw a Rectangle at (10,100) with Width 60,30\n",
    "pdf.rect(10, 100, 60, 30, 'D')\n",
    "\n",
    "# Set Fill color\n",
    "pdf.set_fill_color(255, 0, 0)  # Red = (255,0,0)\n",
    "\n",
    "# Draw a Circle at (10,135) with diameter 50\n",
    "pdf.ellipse(10, 135, 50, 50, 'F')\n",
    "\n",
    "# Save the Output at Local File\n",
    "pdf.output('/home/icoldplayer/Documents/learning/python/iPython/result.pdf', 'F')"
   ]
  }
 ],
 "metadata": {
  "kernelspec": {
   "display_name": "Python 3",
   "language": "python",
   "name": "python3"
  },
  "language_info": {
   "codemirror_mode": {
    "name": "ipython",
    "version": 3
   },
   "file_extension": ".py",
   "mimetype": "text/x-python",
   "name": "python",
   "nbconvert_exporter": "python",
   "pygments_lexer": "ipython3",
   "version": "3.6.8"
  }
 },
 "nbformat": 4,
 "nbformat_minor": 2
}
